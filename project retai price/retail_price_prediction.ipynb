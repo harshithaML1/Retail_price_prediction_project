{
  "cells": [
    {
      "cell_type": "markdown",
      "metadata": {},
      "source": "# \ud83d\udecd\ufe0f Retail Price Prediction & Recommendation\nA step\u2011by\u2011step Jupyter Notebook that trains a Random\u2011Forest model, evaluates it, and returns actionable price recommendations."
    },
    {
      "cell_type": "markdown",
      "metadata": {},
      "source": "**Walk\u2011through outline**\n1. Data load & preview\n2. Feature engineering (one\u2011hot encoding)\n3. Train/test split & model training (Random\u202fForest)\n4. Evaluation metrics (RMSE & R\u00b2)\n5. Business rule \u2192 *Raise / Keep / Discount*\n6. Visual diagnostics"
    },
    {
      "cell_type": "code",
      "metadata": {},
      "execution_count": null,
      "outputs": [],
      "source": "\nimport pandas as pd\nimport numpy as np\nimport matplotlib.pyplot as plt\nfrom sklearn.model_selection import train_test_split\nfrom sklearn.ensemble import RandomForestRegressor\nfrom sklearn.metrics import mean_squared_error, r2_score\n"
    },
    {
      "cell_type": "markdown",
      "metadata": {},
      "source": "## 1 \u00b7 Load the data"
    },
    {
      "cell_type": "code",
      "metadata": {},
      "execution_count": null,
      "outputs": [],
      "source": "\nDATA_PATH = 'retail_price.csv'  # adjust if located elsewhere\ndf = pd.read_csv(DATA_PATH)\nprint(f\"Data shape: {df.shape}\")\ndf.head()\n"
    },
    {
      "cell_type": "markdown",
      "metadata": {},
      "source": "## 2 \u00b7 Define target and encode categorical features"
    },
    {
      "cell_type": "code",
      "metadata": {},
      "execution_count": null,
      "outputs": [],
      "source": "\ntarget_col = 'unit_price'\nX = df.drop(columns=[target_col])\ny = df[target_col]\n\n# One\u2011hot encode\nX_encoded = pd.get_dummies(X, drop_first=True)\nprint(f\"Encoded matrix shape: {X_encoded.shape}\")\n"
    },
    {
      "cell_type": "markdown",
      "metadata": {},
      "source": "## 3 \u00b7 Train/test split & model training"
    },
    {
      "cell_type": "code",
      "metadata": {},
      "execution_count": null,
      "outputs": [],
      "source": "\nX_train, X_test, y_train, y_test = train_test_split(\n    X_encoded, y, test_size=0.2, random_state=42)\n\nrf = RandomForestRegressor(n_estimators=300, random_state=42, n_jobs=-1)\nrf.fit(X_train, y_train)\n"
    },
    {
      "cell_type": "markdown",
      "metadata": {},
      "source": "## 4 \u00b7 Evaluation"
    },
    {
      "cell_type": "code",
      "metadata": {},
      "execution_count": null,
      "outputs": [],
      "source": "\ny_pred = rf.predict(X_test)\nrmse = mean_squared_error(y_test, y_pred, squared=False)\nr2 = r2_score(y_test, y_pred)\nprint(f\"RMSE: {rmse:.2f}\")\nprint(f\"R\u00b2: {r2:.3f}\")\n"
    },
    {
      "cell_type": "markdown",
      "metadata": {},
      "source": "## 5 \u00b7 Generate price recommendations"
    },
    {
      "cell_type": "code",
      "metadata": {},
      "execution_count": null,
      "outputs": [],
      "source": "\nband = 0.05\nactions = []\nfor actual, pred in zip(y_test, y_pred):\n    if pred >= actual * (1 + band):\n        actions.append('Raise price')\n    elif pred <= actual * (1 - band):\n        actions.append('Discount')\n    else:\n        actions.append('Keep price')\n\nresults = pd.DataFrame({\n    'Actual Price': y_test.values,\n    'Predicted Price': y_pred,\n    'Error': y_test.values - y_pred,\n    'Action': actions\n})\nresults.head(20)\n"
    },
    {
      "cell_type": "markdown",
      "metadata": {},
      "source": "## 6 \u00b7 Visual diagnostics"
    },
    {
      "cell_type": "code",
      "metadata": {},
      "execution_count": null,
      "outputs": [],
      "source": "\n# Actual vs Predicted\nplt.figure()\nplt.scatter(y_test, y_pred)\nplt.plot([y_test.min(), y_test.max()], [y_test.min(), y_test.max()])\nplt.xlabel('Actual Unit Price')\nplt.ylabel('Predicted Unit Price')\nplt.title('Actual vs Predicted Unit Price')\nplt.grid(True)\nplt.tight_layout()\nplt.show()\n\n# Residuals histogram\nplt.figure()\nplt.hist(y_test - y_pred, bins=30)\nplt.xlabel('Residual (Actual - Predicted)')\nplt.ylabel('Frequency')\nplt.title('Residual Distribution')\nplt.grid(True)\nplt.tight_layout()\nplt.show()\n\n# Feature importances\nimportances = rf.feature_importances_\nindices = np.argsort(importances)[-15:]\nplt.figure()\nplt.barh(range(len(indices)), importances[indices])\nplt.yticks(range(len(indices)), X_encoded.columns[indices])\nplt.xlabel('Importance')\nplt.title('Top 15 Feature Importances')\nplt.tight_layout()\nplt.show()\n"
    }
  ],
  "metadata": {
    "kernelspec": {
      "display_name": "Python 3",
      "language": "python",
      "name": "python3"
    },
    "language_info": {
      "name": "python",
      "version": "3.x"
    },
    "created": "2025-06-29T10:35:44.725749Z"
  },
  "nbformat": 4,
  "nbformat_minor": 5
}